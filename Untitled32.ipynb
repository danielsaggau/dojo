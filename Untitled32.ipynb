{
  "nbformat": 4,
  "nbformat_minor": 0,
  "metadata": {
    "colab": {
      "name": "Untitled32.ipynb",
      "provenance": [],
      "authorship_tag": "ABX9TyNORGmZC/nxTNbQSrTZt9V/",
      "include_colab_link": true
    },
    "kernelspec": {
      "name": "python3",
      "display_name": "Python 3"
    },
    "language_info": {
      "name": "python"
    }
  },
  "cells": [
    {
      "cell_type": "markdown",
      "metadata": {
        "id": "view-in-github",
        "colab_type": "text"
      },
      "source": [
        "<a href=\"https://colab.research.google.com/github/danielsaggau/dojo/blob/main/Untitled32.ipynb\" target=\"_parent\"><img src=\"https://colab.research.google.com/assets/colab-badge.svg\" alt=\"Open In Colab\"/></a>"
      ]
    },
    {
      "cell_type": "code",
      "metadata": {
        "id": "fet1wSa4NQvX"
      },
      "source": [
        "# If set to True, example images in README.md will be overwritten!\n",
        "SAVE_IMAGES = False"
      ],
      "execution_count": 1,
      "outputs": []
    },
    {
      "cell_type": "code",
      "metadata": {
        "colab": {
          "base_uri": "https://localhost:8080/"
        },
        "id": "-AUAVs0YNn43",
        "outputId": "1e96f3bb-d50f-47ad-e606-461a13189243"
      },
      "source": [
        "!git clone https://github.com/sedthh/pyxelate.git"
      ],
      "execution_count": 5,
      "outputs": [
        {
          "output_type": "stream",
          "name": "stdout",
          "text": [
            "Cloning into 'pyxelate'...\n",
            "remote: Enumerating objects: 279, done.\u001b[K\n",
            "remote: Counting objects: 100% (279/279), done.\u001b[K\n",
            "remote: Compressing objects: 100% (201/201), done.\u001b[K\n",
            "remote: Total 279 (delta 129), reused 214 (delta 77), pack-reused 0\u001b[K\n",
            "Receiving objects: 100% (279/279), 35.30 MiB | 26.73 MiB/s, done.\n",
            "Resolving deltas: 100% (129/129), done.\n"
          ]
        }
      ]
    },
    {
      "cell_type": "code",
      "metadata": {
        "colab": {
          "base_uri": "https://localhost:8080/"
        },
        "id": "qcARlW74NqlS",
        "outputId": "8d182949-017b-4b76-b8f1-63dce11dd14c"
      },
      "source": [
        "%cd /content/pyxelate"
      ],
      "execution_count": 6,
      "outputs": [
        {
          "output_type": "stream",
          "name": "stdout",
          "text": [
            "/content/pyxelate\n"
          ]
        }
      ]
    },
    {
      "cell_type": "code",
      "metadata": {
        "colab": {
          "base_uri": "https://localhost:8080/"
        },
        "id": "P1kBxHG8NXP5",
        "outputId": "8f0cd5a5-02e9-43e8-b085-b6a7c47ad9a3"
      },
      "source": [
        "!pip install pyxelate"
      ],
      "execution_count": 4,
      "outputs": [
        {
          "output_type": "stream",
          "name": "stdout",
          "text": [
            "\u001b[31mERROR: Could not find a version that satisfies the requirement pyxelate (from versions: none)\u001b[0m\n",
            "\u001b[31mERROR: No matching distribution found for pyxelate\u001b[0m\n"
          ]
        }
      ]
    },
    {
      "cell_type": "code",
      "metadata": {
        "id": "HLONSebINSHu"
      },
      "source": [
        "from os import path\n",
        "import numpy as np\n",
        "import matplotlib.pyplot as plt\n",
        "from skimage import io\n",
        "from pyxelate import Pyx, Pal"
      ],
      "execution_count": 7,
      "outputs": []
    },
    {
      "cell_type": "code",
      "metadata": {
        "id": "rorKshFWNb7I"
      },
      "source": [
        "# Display images in Jupyter Notebook\n",
        "\n",
        "def plot(subplots=[], save_as=None, fig_h=9):\n",
        "    \"\"\"Plotting helper function\"\"\"\n",
        "    fig, ax = plt.subplots(int(np.ceil(len(subplots) / 3)), \n",
        "                           min(3, len(subplots)), \n",
        "                           figsize=(18, fig_h))\n",
        "    if len(subplots) == 1:\n",
        "        ax = [ax]\n",
        "    else:\n",
        "        ax = ax.ravel()\n",
        "    for i, subplot in enumerate(subplots):\n",
        "        if isinstance(subplot, dict):\n",
        "            ax[i].set_title(subplot[\"title\"])\n",
        "            ax[i].imshow(subplot[\"image\"])\n",
        "        else:\n",
        "            ax[i].imshow(subplot)\n",
        "    fig.tight_layout()\n",
        "    if save_as is not None and SAVE_IMAGES:\n",
        "        # Save image as an example in README.md\n",
        "        plt.savefig(path.join(\"examples/\", save_as), transparent=True)\n",
        "    plt.show()"
      ],
      "execution_count": 8,
      "outputs": []
    },
    {
      "cell_type": "code",
      "metadata": {
        "id": "g5uTzryQNft6"
      },
      "source": [
        "# load image with 'skimage.io.imread()'\n",
        "image = io.imread(\"/content/1617646246106.jpeg\")  \n",
        "\n",
        "downsample_by = 14  # new image will be 1/14th of the original in size\n",
        "palette = 7  # find 7 colors\n",
        "\n",
        "# 1) Instantiate Pyx transformer\n",
        "pyx = Pyx(factor=downsample_by, palette=palette)\n",
        "\n",
        "# 2) fit an image, allow Pyxelate to learn the color palette\n",
        "pyx.fit(image)\n",
        "\n",
        "# 3) transform image to pixel art using the learned color palette\n",
        "new_image = pyx.transform(image)\n",
        "\n",
        "# save new image with 'skimage.io.imsave()'\n",
        "#io.imsave(\"examples/test.png\", new_image)\n",
        "plot([image, new_image], \"p_blazkowicz.png\")"
      ],
      "execution_count": null,
      "outputs": []
    }
  ]
}